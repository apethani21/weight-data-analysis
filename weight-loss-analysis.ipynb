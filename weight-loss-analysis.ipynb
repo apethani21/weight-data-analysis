{
 "cells": [
  {
   "cell_type": "code",
   "execution_count": 1,
   "metadata": {},
   "outputs": [],
   "source": [
    "from api_handler import create_assertion_session\n",
    "import pandas as pd\n",
    "import seaborn as sns\n",
    "import matplotlib.pyplot as plt"
   ]
  },
  {
   "cell_type": "code",
   "execution_count": 2,
   "metadata": {},
   "outputs": [],
   "source": [
    "def get_weight_data():\n",
    "    scopes = [\n",
    "    'https://spreadsheets.google.com/feeds',\n",
    "    'https://www.googleapis.com/auth/drive',\n",
    "    ]\n",
    "    session = create_assertion_session(scopes)\n",
    "    gc = Client(None, session)\n",
    "    weight_track_spreadsheet = gc.open(\"weight-track\").sheet1\n",
    "    return weight_track_spreadsheet.get_all_records()\n",
    "\n",
    "def process_weight_data(data: list):\n",
    "    df = pd.DataFrame(data)\n",
    "    df.rename(columns={'Timestamp': 'timestamp',\n",
    "                       'Weight (KG)': 'weight',\n",
    "                       'Loss (KG)': 'loss'},\n",
    "              inplace=True)\n",
    "    df.drop('Datetime', inplace=True, axis='columns')\n",
    "    df['timestamp'] = pd.to_datetime(df['timestamp'], unit='s')\n",
    "    df['time'] = df['timestamp'].dt.time\n",
    "    df['7-pt-MA'] = df['loss'].rolling(7).mean()\n",
    "    return df\n",
    "\n",
    "def time_dist_plot(df, bins=8):\n",
    "    plt.figure(figsize=(10, 5))\n",
    "    hours = df['timestamp'].dt.hour + df['timestamp'].dt.minute/60\n",
    "    hours.name = \"Hour of day\"\n",
    "    plt.hist(hours, bins=bins, color='#66b3ff')\n",
    "    plt.title(\"Hour of day when weighed\",\n",
    "              weight='bold',\n",
    "              size=10)\n",
    "    print(hours.describe(percentiles=[0.5]).round(2))\n",
    "    \n",
    "def weight_loss_plot(df):\n",
    "    plt.figure(figsize=(15, 6))\n",
    "    plt.plot(df['timestamp'], df['loss'],\n",
    "             label='Loss (KG)',\n",
    "             marker=\"o\",\n",
    "             markersize=10,\n",
    "             color='#66b3ff',\n",
    "             linewidth=3)\n",
    "    plt.plot(df['timestamp'], df['7-pt-MA'],\n",
    "             alpha=0.75,\n",
    "             label='7 pt MA',\n",
    "             color='#ff9999',\n",
    "             linewidth=2)\n",
    "    plt.legend(bbox_to_anchor=[0.98, 0.2])\n",
    "    curr_loss = df.iloc[-1]['loss']\n",
    "    plt.hlines(curr_loss,\n",
    "               xmin=df['timestamp'].min(),\n",
    "               xmax=df['timestamp'].max(),\n",
    "               linewidth=2.5,\n",
    "               colors='#ffcc90',\n",
    "               linestyles='--',\n",
    "               label=str(curr_loss))\n",
    "    plt.text(x=df['timestamp'].max(),\n",
    "             y=curr_loss*1.03,\n",
    "             s=f\"{curr_loss}\",\n",
    "             weight='bold',\n",
    "             size=15);\n",
    "    plt.title(f\"Total weighings: {len(df)}\",\n",
    "              weight='bold', size=15)\n",
    "    plt.xticks(rotation=30)\n",
    "    plt.grid()\n",
    "    plt.show()"
   ]
  },
  {
   "cell_type": "code",
   "execution_count": 3,
   "metadata": {},
   "outputs": [
    {
     "ename": "NameError",
     "evalue": "name 'Client' is not defined",
     "output_type": "error",
     "traceback": [
      "\u001b[0;31m---------------------------------------------------------------------------\u001b[0m",
      "\u001b[0;31mNameError\u001b[0m                                 Traceback (most recent call last)",
      "\u001b[0;32m<ipython-input-3-daee3222ae3e>\u001b[0m in \u001b[0;36m<module>\u001b[0;34m\u001b[0m\n\u001b[0;32m----> 1\u001b[0;31m \u001b[0mweight_data\u001b[0m \u001b[0;34m=\u001b[0m \u001b[0mget_weight_data\u001b[0m\u001b[0;34m(\u001b[0m\u001b[0;34m)\u001b[0m\u001b[0;34m\u001b[0m\u001b[0m\n\u001b[0m\u001b[1;32m      2\u001b[0m \u001b[0mdf\u001b[0m \u001b[0;34m=\u001b[0m \u001b[0mprocess_weight_data\u001b[0m\u001b[0;34m(\u001b[0m\u001b[0mweight_data\u001b[0m\u001b[0;34m)\u001b[0m\u001b[0;34m\u001b[0m\u001b[0m\n",
      "\u001b[0;32m<ipython-input-2-391797ab7f91>\u001b[0m in \u001b[0;36mget_weight_data\u001b[0;34m()\u001b[0m\n\u001b[1;32m      5\u001b[0m     ]\n\u001b[1;32m      6\u001b[0m     \u001b[0msession\u001b[0m \u001b[0;34m=\u001b[0m \u001b[0mcreate_assertion_session\u001b[0m\u001b[0;34m(\u001b[0m\u001b[0mscopes\u001b[0m\u001b[0;34m)\u001b[0m\u001b[0;34m\u001b[0m\u001b[0m\n\u001b[0;32m----> 7\u001b[0;31m     \u001b[0mgc\u001b[0m \u001b[0;34m=\u001b[0m \u001b[0mClient\u001b[0m\u001b[0;34m(\u001b[0m\u001b[0;32mNone\u001b[0m\u001b[0;34m,\u001b[0m \u001b[0msession\u001b[0m\u001b[0;34m)\u001b[0m\u001b[0;34m\u001b[0m\u001b[0m\n\u001b[0m\u001b[1;32m      8\u001b[0m     \u001b[0mweight_track_spreadsheet\u001b[0m \u001b[0;34m=\u001b[0m \u001b[0mgc\u001b[0m\u001b[0;34m.\u001b[0m\u001b[0mopen\u001b[0m\u001b[0;34m(\u001b[0m\u001b[0;34m\"weight-track\"\u001b[0m\u001b[0;34m)\u001b[0m\u001b[0;34m.\u001b[0m\u001b[0msheet1\u001b[0m\u001b[0;34m\u001b[0m\u001b[0m\n\u001b[1;32m      9\u001b[0m     \u001b[0;32mreturn\u001b[0m \u001b[0mweight_track_spreadsheet\u001b[0m\u001b[0;34m.\u001b[0m\u001b[0mget_all_records\u001b[0m\u001b[0;34m(\u001b[0m\u001b[0;34m)\u001b[0m\u001b[0;34m\u001b[0m\u001b[0m\n",
      "\u001b[0;31mNameError\u001b[0m: name 'Client' is not defined"
     ]
    }
   ],
   "source": [
    "weight_data = get_weight_data()\n",
    "df = process_weight_data(weight_data)"
   ]
  },
  {
   "cell_type": "code",
   "execution_count": null,
   "metadata": {},
   "outputs": [],
   "source": [
    "weight_loss_plot(df)"
   ]
  },
  {
   "cell_type": "code",
   "execution_count": null,
   "metadata": {},
   "outputs": [],
   "source": [
    "time_dist_plot(df, bins=10)"
   ]
  },
  {
   "cell_type": "code",
   "execution_count": null,
   "metadata": {},
   "outputs": [],
   "source": []
  }
 ],
 "metadata": {
  "kernelspec": {
   "display_name": "Python 3",
   "language": "python",
   "name": "python3"
  },
  "language_info": {
   "codemirror_mode": {
    "name": "ipython",
    "version": 3
   },
   "file_extension": ".py",
   "mimetype": "text/x-python",
   "name": "python",
   "nbconvert_exporter": "python",
   "pygments_lexer": "ipython3",
   "version": "3.6.6-final"
  }
 },
 "nbformat": 4,
 "nbformat_minor": 4
}